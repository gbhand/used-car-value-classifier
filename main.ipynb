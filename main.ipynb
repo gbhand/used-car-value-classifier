{
 "cells": [
  {
   "cell_type": "code",
   "execution_count": 74,
   "metadata": {},
   "outputs": [],
   "source": [
    "from data_cleaning import clean_dataframe, append_msrp, append_retains_value, get_expected_value\n",
    "import pandas as pd\n",
    "import numpy as np\n",
    "import matplotlib.pyplot as plt"
   ]
  },
  {
   "cell_type": "code",
   "execution_count": 115,
   "metadata": {},
   "outputs": [],
   "source": [
    "# Cleaning takes ~20mins, so we try to avoid repeating it\n",
    "try:\n",
    "    df = pd.read_csv(\"true_car_cleaned.csv\", index_col=0)\n",
    "except FileNotFoundError:\n",
    "    # source: https://www.kaggle.com/datasets/harikrishnareddyb/used-car-price-predictions\n",
    "    df = pd.read_csv(\"true_car_listings.csv\")\n",
    "    df = clean_dataframe(df)\n",
    "    df = append_msrp(df)\n",
    "    df = append_retains_value(df)\n",
    "    df = df.dropna()"
   ]
  },
  {
   "cell_type": "code",
   "execution_count": 89,
   "metadata": {},
   "outputs": [
    {
     "data": {
      "text/html": [
       "<style type=\"text/css\">\n",
       "#T_55b74_row0_col0, #T_55b74_row1_col1, #T_55b74_row2_col2, #T_55b74_row3_col3, #T_55b74_row4_col4, #T_55b74_row5_col5 {\n",
       "  background-color: #b40426;\n",
       "  color: #f1f1f1;\n",
       "}\n",
       "#T_55b74_row0_col1 {\n",
       "  background-color: #f7b599;\n",
       "  color: #000000;\n",
       "}\n",
       "#T_55b74_row0_col2 {\n",
       "  background-color: #799cf8;\n",
       "  color: #f1f1f1;\n",
       "}\n",
       "#T_55b74_row0_col3 {\n",
       "  background-color: #f7b79b;\n",
       "  color: #000000;\n",
       "}\n",
       "#T_55b74_row0_col4, #T_55b74_row3_col4, #T_55b74_row4_col0 {\n",
       "  background-color: #df634e;\n",
       "  color: #f1f1f1;\n",
       "}\n",
       "#T_55b74_row0_col5 {\n",
       "  background-color: #d4dbe6;\n",
       "  color: #000000;\n",
       "}\n",
       "#T_55b74_row1_col0 {\n",
       "  background-color: #f1ccb8;\n",
       "  color: #000000;\n",
       "}\n",
       "#T_55b74_row1_col2, #T_55b74_row2_col0, #T_55b74_row2_col1, #T_55b74_row2_col3, #T_55b74_row2_col4, #T_55b74_row2_col5 {\n",
       "  background-color: #3b4cc0;\n",
       "  color: #f1f1f1;\n",
       "}\n",
       "#T_55b74_row1_col3 {\n",
       "  background-color: #4a63d3;\n",
       "  color: #f1f1f1;\n",
       "}\n",
       "#T_55b74_row1_col4 {\n",
       "  background-color: #f7b89c;\n",
       "  color: #000000;\n",
       "}\n",
       "#T_55b74_row1_col5 {\n",
       "  background-color: #6687ed;\n",
       "  color: #f1f1f1;\n",
       "}\n",
       "#T_55b74_row3_col0 {\n",
       "  background-color: #f39577;\n",
       "  color: #000000;\n",
       "}\n",
       "#T_55b74_row3_col1 {\n",
       "  background-color: #cdd9ec;\n",
       "  color: #000000;\n",
       "}\n",
       "#T_55b74_row3_col2 {\n",
       "  background-color: #c4d5f3;\n",
       "  color: #000000;\n",
       "}\n",
       "#T_55b74_row3_col5 {\n",
       "  background-color: #6180e9;\n",
       "  color: #f1f1f1;\n",
       "}\n",
       "#T_55b74_row4_col1 {\n",
       "  background-color: #f6a283;\n",
       "  color: #000000;\n",
       "}\n",
       "#T_55b74_row4_col2 {\n",
       "  background-color: #779af7;\n",
       "  color: #f1f1f1;\n",
       "}\n",
       "#T_55b74_row4_col3 {\n",
       "  background-color: #ea7b60;\n",
       "  color: #f1f1f1;\n",
       "}\n",
       "#T_55b74_row4_col5 {\n",
       "  background-color: #6485ec;\n",
       "  color: #f1f1f1;\n",
       "}\n",
       "#T_55b74_row5_col0 {\n",
       "  background-color: #edd1c2;\n",
       "  color: #000000;\n",
       "}\n",
       "#T_55b74_row5_col1 {\n",
       "  background-color: #ccd9ed;\n",
       "  color: #000000;\n",
       "}\n",
       "#T_55b74_row5_col2 {\n",
       "  background-color: #afcafc;\n",
       "  color: #000000;\n",
       "}\n",
       "#T_55b74_row5_col3 {\n",
       "  background-color: #4358cb;\n",
       "  color: #f1f1f1;\n",
       "}\n",
       "#T_55b74_row5_col4 {\n",
       "  background-color: #a1c0ff;\n",
       "  color: #000000;\n",
       "}\n",
       "</style>\n",
       "<table id=\"T_55b74\">\n",
       "  <thead>\n",
       "    <tr>\n",
       "      <th class=\"blank level0\" >&nbsp;</th>\n",
       "      <th id=\"T_55b74_level0_col0\" class=\"col_heading level0 col0\" >Price</th>\n",
       "      <th id=\"T_55b74_level0_col1\" class=\"col_heading level0 col1\" >Year</th>\n",
       "      <th id=\"T_55b74_level0_col2\" class=\"col_heading level0 col2\" >Mileage</th>\n",
       "      <th id=\"T_55b74_level0_col3\" class=\"col_heading level0 col3\" >MSRP</th>\n",
       "      <th id=\"T_55b74_level0_col4\" class=\"col_heading level0 col4\" >expected_value</th>\n",
       "      <th id=\"T_55b74_level0_col5\" class=\"col_heading level0 col5\" >retains_value</th>\n",
       "    </tr>\n",
       "  </thead>\n",
       "  <tbody>\n",
       "    <tr>\n",
       "      <th id=\"T_55b74_level0_row0\" class=\"row_heading level0 row0\" >Price</th>\n",
       "      <td id=\"T_55b74_row0_col0\" class=\"data row0 col0\" >1.000000</td>\n",
       "      <td id=\"T_55b74_row0_col1\" class=\"data row0 col1\" >0.419120</td>\n",
       "      <td id=\"T_55b74_row0_col2\" class=\"data row0 col2\" >-0.431040</td>\n",
       "      <td id=\"T_55b74_row0_col3\" class=\"data row0 col3\" >0.656896</td>\n",
       "      <td id=\"T_55b74_row0_col4\" class=\"data row0 col4\" >0.811262</td>\n",
       "      <td id=\"T_55b74_row0_col5\" class=\"data row0 col5\" >0.386196</td>\n",
       "    </tr>\n",
       "    <tr>\n",
       "      <th id=\"T_55b74_level0_row1\" class=\"row_heading level0 row1\" >Year</th>\n",
       "      <td id=\"T_55b74_row1_col0\" class=\"data row1 col0\" >0.419120</td>\n",
       "      <td id=\"T_55b74_row1_col1\" class=\"data row1 col1\" >1.000000</td>\n",
       "      <td id=\"T_55b74_row1_col2\" class=\"data row1 col2\" >-0.770829</td>\n",
       "      <td id=\"T_55b74_row1_col3\" class=\"data row1 col3\" >0.016519</td>\n",
       "      <td id=\"T_55b74_row1_col4\" class=\"data row1 col4\" >0.521414</td>\n",
       "      <td id=\"T_55b74_row1_col5\" class=\"data row1 col5\" >0.008011</td>\n",
       "    </tr>\n",
       "    <tr>\n",
       "      <th id=\"T_55b74_level0_row2\" class=\"row_heading level0 row2\" >Mileage</th>\n",
       "      <td id=\"T_55b74_row2_col0\" class=\"data row2 col0\" >-0.431040</td>\n",
       "      <td id=\"T_55b74_row2_col1\" class=\"data row2 col1\" >-0.770829</td>\n",
       "      <td id=\"T_55b74_row2_col2\" class=\"data row2 col2\" >1.000000</td>\n",
       "      <td id=\"T_55b74_row2_col3\" class=\"data row2 col3\" >-0.039812</td>\n",
       "      <td id=\"T_55b74_row2_col4\" class=\"data row2 col4\" >-0.435089</td>\n",
       "      <td id=\"T_55b74_row2_col5\" class=\"data row2 col5\" >-0.151765</td>\n",
       "    </tr>\n",
       "    <tr>\n",
       "      <th id=\"T_55b74_level0_row3\" class=\"row_heading level0 row3\" >MSRP</th>\n",
       "      <td id=\"T_55b74_row3_col0\" class=\"data row3 col0\" >0.656896</td>\n",
       "      <td id=\"T_55b74_row3_col1\" class=\"data row3 col1\" >0.016519</td>\n",
       "      <td id=\"T_55b74_row3_col2\" class=\"data row3 col2\" >-0.039812</td>\n",
       "      <td id=\"T_55b74_row3_col3\" class=\"data row3 col3\" >1.000000</td>\n",
       "      <td id=\"T_55b74_row3_col4\" class=\"data row3 col4\" >0.812103</td>\n",
       "      <td id=\"T_55b74_row3_col5\" class=\"data row3 col5\" >-0.010448</td>\n",
       "    </tr>\n",
       "    <tr>\n",
       "      <th id=\"T_55b74_level0_row4\" class=\"row_heading level0 row4\" >expected_value</th>\n",
       "      <td id=\"T_55b74_row4_col0\" class=\"data row4 col0\" >0.811262</td>\n",
       "      <td id=\"T_55b74_row4_col1\" class=\"data row4 col1\" >0.521414</td>\n",
       "      <td id=\"T_55b74_row4_col2\" class=\"data row4 col2\" >-0.435089</td>\n",
       "      <td id=\"T_55b74_row4_col3\" class=\"data row4 col3\" >0.812103</td>\n",
       "      <td id=\"T_55b74_row4_col4\" class=\"data row4 col4\" >1.000000</td>\n",
       "      <td id=\"T_55b74_row4_col5\" class=\"data row4 col5\" >0.004994</td>\n",
       "    </tr>\n",
       "    <tr>\n",
       "      <th id=\"T_55b74_level0_row5\" class=\"row_heading level0 row5\" >retains_value</th>\n",
       "      <td id=\"T_55b74_row5_col0\" class=\"data row5 col0\" >0.386196</td>\n",
       "      <td id=\"T_55b74_row5_col1\" class=\"data row5 col1\" >0.008011</td>\n",
       "      <td id=\"T_55b74_row5_col2\" class=\"data row5 col2\" >-0.151765</td>\n",
       "      <td id=\"T_55b74_row5_col3\" class=\"data row5 col3\" >-0.010448</td>\n",
       "      <td id=\"T_55b74_row5_col4\" class=\"data row5 col4\" >0.004994</td>\n",
       "      <td id=\"T_55b74_row5_col5\" class=\"data row5 col5\" >1.000000</td>\n",
       "    </tr>\n",
       "  </tbody>\n",
       "</table>\n"
      ],
      "text/plain": [
       "<pandas.io.formats.style.Styler at 0x14f1652dca0>"
      ]
     },
     "execution_count": 89,
     "metadata": {},
     "output_type": "execute_result"
    }
   ],
   "source": [
    "# Correlation Matrix\n",
    "corr = df.corr()\n",
    "corr.style.background_gradient(cmap='coolwarm')"
   ]
  },
  {
   "cell_type": "markdown",
   "metadata": {},
   "source": [
    "We see the variable that will eventually become our class, `retains_value`, has very little correlation to `MSRP` and `Mileage`. This may suggest more of a connection between Make, Model, and specific model-years (since they aren't featured in this numerical-only matrix).\n",
    "\n",
    "`expected_value` is strongly correlated to `Price`, meaning on average our metric of depreciation mostly holds true. However, with this machine learning model we hope to further granularize this and give a better understanding of how different features affect how value is held (or not held)."
   ]
  },
  {
   "cell_type": "code",
   "execution_count": 114,
   "metadata": {},
   "outputs": [
    {
     "data": {
      "text/plain": [
       "<AxesSubplot:>"
      ]
     },
     "execution_count": 114,
     "metadata": {},
     "output_type": "execute_result"
    },
    {
     "data": {
      "image/png": "[encoded data removed]",
      "text/plain": [
       "<Figure size 432x288 with 1 Axes>"
      ]
     },
     "metadata": {
      "needs_background": "light"
     },
     "output_type": "display_data"
    }
   ],
   "source": [
    "# Distribution of price differences\n",
    "df.apply(lambda x: (x['Price'] - x['expected_value']) / (x['Price'] + x['expected_value']), axis=1).hist()"
   ]
  },
  {
   "cell_type": "code",
   "execution_count": 96,
   "metadata": {},
   "outputs": [
    {
     "data": {
      "text/plain": [
       "True     309529\n",
       "False    308233\n",
       "Name: retains_value, dtype: int64"
      ]
     },
     "execution_count": 96,
     "metadata": {},
     "output_type": "execute_result"
    }
   ],
   "source": [
    "# we should drop `Price`, since our model should neither know it nor predict it\n",
    "df = df[['Year', 'Mileage', 'Make', 'Model', 'MSRP', 'retains_value']]\n",
    "df['retains_value'].value_counts()"
   ]
  },
  {
   "cell_type": "code",
   "execution_count": 101,
   "metadata": {},
   "outputs": [],
   "source": [
    "from sklearn.model_selection import train_test_split\n",
    "from sklearn.pipeline import Pipeline\n",
    "from sklearn.svm import SVC, LinearSVC\n",
    "from sklearn.preprocessing import StandardScaler, OneHotEncoder\n",
    "from sklearn.compose import ColumnTransformer\n",
    "from sklearn import tree\n",
    "\n",
    "\n",
    "X = df.drop('retains_value', axis=1)\n",
    "y = df['retains_value']\n",
    "\n",
    "numeric_features = ['Year', 'Mileage', 'MSRP']\n",
    "numeric_transformer = Pipeline(steps=[(\"scaler\", StandardScaler())])\n",
    "\n",
    "categorical_features = ['Make', 'Model']\n",
    "categorical_transformer = OneHotEncoder(handle_unknown='ignore')\n",
    "\n",
    "preprocessor = ColumnTransformer(\n",
    "    transformers=[\n",
    "        (\"num\", numeric_transformer, numeric_features),\n",
    "        (\"cat\", categorical_transformer, categorical_features)\n",
    "])\n",
    "# classifier = LinearSVC(verbose=1, dual=False)\n",
    "# classifier = SVC(verbose=1, kernel='linear')\n"
   ]
  },
  {
   "cell_type": "code",
   "execution_count": 102,
   "metadata": {},
   "outputs": [
    {
     "name": "stdout",
     "output_type": "stream",
     "text": [
      "0.758039060160417\n"
     ]
    }
   ],
   "source": [
    "classifier = tree.DecisionTreeClassifier(min_impurity_decrease=0.0002)\n",
    "\n",
    "clf = Pipeline(steps=[(\"preprocessor\", preprocessor), (\"classifier\", classifier)])\n",
    "\n",
    "X_train, X_test, y_train, y_test = train_test_split(X, y, test_size=0.2, random_state=42, stratify=y)\n",
    "clf.fit(X_train, y_train)\n",
    "score = clf.score(X_test, y_test)\n",
    "print(score)"
   ]
  },
  {
   "cell_type": "markdown",
   "metadata": {},
   "source": [
    "### Testing hyperparameters:\n",
    "\n",
    "```\n",
    "min_impurity_decrease=0\n",
    "0.7268\n",
    "min_impurity_decrease=0.0001\n",
    "0.76915\n",
    "min_impurity_decrease=0.001\n",
    "0.69285\n",
    "min_impurity_decrease=0.01\n",
    "0.55105\n",
    "min_impurity_decrease=0.1\n",
    "0.50345\n",
    "```"
   ]
  },
  {
   "cell_type": "code",
   "execution_count": 84,
   "metadata": {},
   "outputs": [
    {
     "name": "stdout",
     "output_type": "stream",
     "text": [
      "min_impurity_decrease=0.0\n",
      "0.7286427686903596\n",
      "min_impurity_decrease=5.2631578947368424e-05\n",
      "0.7800215292222771\n",
      "min_impurity_decrease=0.00010526315789473685\n",
      "0.7692245433133958\n",
      "min_impurity_decrease=0.00015789473684210527\n",
      "0.7633728035741747\n",
      "min_impurity_decrease=0.0002105263157894737\n",
      "0.7555057343811967\n",
      "min_impurity_decrease=0.0002631578947368421\n",
      "0.7485613461429508\n",
      "min_impurity_decrease=0.00031578947368421053\n",
      "0.7425315451668515\n",
      "min_impurity_decrease=0.00036842105263157896\n",
      "0.7403948103243143\n",
      "min_impurity_decrease=0.0004210526315789474\n",
      "0.7335475463970927\n",
      "min_impurity_decrease=0.0004736842105263158\n",
      "0.7270078427881153\n",
      "min_impurity_decrease=0.0005263157894736842\n",
      "0.7204843265643084\n",
      "min_impurity_decrease=0.0005789473684210527\n",
      "0.7161380136459657\n",
      "min_impurity_decrease=0.0006315789473684211\n",
      "0.7152315200764044\n",
      "min_impurity_decrease=0.0006842105263157895\n",
      "0.711573171027818\n",
      "min_impurity_decrease=0.0007368421052631579\n",
      "0.6986556376615704\n",
      "min_impurity_decrease=0.0007894736842105264\n",
      "0.6955962218643011\n",
      "min_impurity_decrease=0.0008421052631578948\n",
      "0.6944873859801057\n",
      "min_impurity_decrease=0.0008947368421052632\n",
      "0.6928848348482028\n",
      "min_impurity_decrease=0.0009473684210526316\n",
      "0.6893802659587384\n",
      "min_impurity_decrease=0.001\n",
      "0.6893802659587384\n"
     ]
    },
    {
     "data": {
      "text/plain": [
       "[<matplotlib.lines.Line2D at 0x14f106a23d0>]"
      ]
     },
     "execution_count": 84,
     "metadata": {},
     "output_type": "execute_result"
    },
    {
     "data": {
      "image/png": "[encoded data removed]",
      "text/plain": [
       "<Figure size 432x288 with 1 Axes>"
      ]
     },
     "metadata": {
      "needs_background": "light"
     },
     "output_type": "display_data"
    }
   ],
   "source": [
    "params = [0, 0.0001, 0.001, 0.01, 0.1]\n",
    "params = np.linspace(0, 0.001, 20)\n",
    "scores = []\n",
    "for param in params:\n",
    "    print(f\"min_impurity_decrease={param}\")\n",
    "    classifier = tree.DecisionTreeClassifier(min_impurity_decrease=param)\n",
    "\n",
    "    clf = Pipeline(steps=[(\"preprocessor\", preprocessor), (\"classifier\", classifier)])\n",
    "\n",
    "    X_train, X_test, y_train, y_test = train_test_split(X, y, test_size=0.2, random_state=42, stratify=y)\n",
    "    clf.fit(X_train, y_train)\n",
    "    score = clf.score(X_test, y_test)\n",
    "    print(score)\n",
    "    scores.append(score)\n",
    "\n",
    "plt.plot(params, scores)"
   ]
  },
  {
   "cell_type": "code",
   "execution_count": null,
   "metadata": {},
   "outputs": [],
   "source": [
    "plt.figure(dpi=1000)\n",
    "tree.plot_tree(clf['classifier'], class_names=True)"
   ]
  },
  {
   "cell_type": "markdown",
   "metadata": {},
   "source": [
    "![Tree Plot looks REALLY good](plot_tree.png \"Tree Plot looks REALLY good\")"
   ]
  },
  {
   "cell_type": "code",
   "execution_count": 106,
   "metadata": {},
   "outputs": [
    {
     "name": "stdout",
     "output_type": "stream",
     "text": [
      "Area under the Receiver Operating Characteristic curve: 0.8362622558020619\n"
     ]
    },
    {
     "data": {
      "image/png": "[encoded data removed]",
      "text/plain": [
       "<Figure size 600x400 with 1 Axes>"
      ]
     },
     "metadata": {
      "needs_background": "light"
     },
     "output_type": "display_data"
    }
   ],
   "source": [
    "# adapted from @gbhand's D6\n",
    "from sklearn.metrics import roc_auc_score, roc_curve, confusion_matrix\n",
    "import matplotlib.pyplot as plt\n",
    "\n",
    "scores = clf.predict_proba(X_test)[:,1]\n",
    "fps = []\n",
    "tps = []\n",
    "for threshold in np.linspace(0,1,1000):\n",
    "    y_pred = scores > threshold\n",
    "    true_negatives, false_positives, false_negatives, true_positives = confusion_matrix(y_test, y_pred).ravel()\n",
    "    fps.append(false_positives / (false_positives + true_negatives)) # add false positive rate\n",
    "    tps.append(true_positives / (true_positives + false_negatives)) # add true positive rate\n",
    "\n",
    "fpr = fps\n",
    "tpr = tps\n",
    "\n",
    "roc_auc = roc_auc_score(y_test, scores)\n",
    "\n",
    "# plotting the ROC curve\n",
    "plt.figure(dpi=100)\n",
    "plt.plot(fpr, tpr)\n",
    "plt.title('ROC curve')\n",
    "plt.xlabel('False Positive Rate')\n",
    "plt.ylabel('True Positive Rate')\n",
    "\n",
    "print('Area under the Receiver Operating Characteristic curve:', roc_auc)"
   ]
  }
 ],
 "metadata": {
  "interpreter": {
   "hash": "a62364c3db3952c2ea2abd8b51ca0971ddb5ff716c80f52f39b0c0c9920690bd"
  },
  "kernelspec": {
   "display_name": "Python 3.9.7 ('venv': venv)",
   "language": "python",
   "name": "python3"
  },
  "language_info": {
   "codemirror_mode": {
    "name": "ipython",
    "version": 3
   },
   "file_extension": ".py",
   "mimetype": "text/x-python",
   "name": "python",
   "nbconvert_exporter": "python",
   "pygments_lexer": "ipython3",
   "version": "3.9.7"
  },
  "orig_nbformat": 4
 },
 "nbformat": 4,
 "nbformat_minor": 2
}
